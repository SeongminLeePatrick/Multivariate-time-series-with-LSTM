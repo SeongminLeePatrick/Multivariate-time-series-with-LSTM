{
 "cells": [
  {
   "cell_type": "code",
   "execution_count": 1,
   "metadata": {},
   "outputs": [],
   "source": [
    "from datetime import datetime, timedelta\n",
    "from dateutil.relativedelta import relativedelta, TH\n",
    "import holidays\n",
    "import pandas as pd"
   ]
  },
  {
   "cell_type": "code",
   "execution_count": 5,
   "metadata": {},
   "outputs": [
    {
     "data": {
      "text/plain": [
       "datetime.date(2020, 11, 27)"
      ]
     },
     "execution_count": 5,
     "metadata": {},
     "output_type": "execute_result"
    }
   ],
   "source": [
    "datetime.date(datetime(2020, 11, 1) + relativedelta(weekday=TH(+4)) + timedelta(days=1))"
   ]
  },
  {
   "cell_type": "code",
   "execution_count": 6,
   "metadata": {
    "scrolled": true
   },
   "outputs": [
    {
     "name": "stdout",
     "output_type": "stream",
     "text": [
      "2015-01-01 New Year's Day\n",
      "2015-01-19 Martin Luther King, Jr. Day\n",
      "2015-02-16 Washington's Birthday\n",
      "2015-05-25 Memorial Day\n",
      "2015-07-03 Independence Day (Observed)\n",
      "2015-07-04 Independence Day\n",
      "2015-09-07 Labor Day\n",
      "2015-10-12 Columbus Day\n",
      "2015-11-11 Veterans Day\n",
      "2015-11-26 Thanksgiving\n",
      "2015-12-25 Christmas Day\n"
     ]
    }
   ],
   "source": [
    "for date, name in sorted(holidays.US(years=2015).items()):\n",
    "    print(date, name)"
   ]
  },
  {
   "cell_type": "code",
   "execution_count": 7,
   "metadata": {},
   "outputs": [],
   "source": [
    "holidays_df = pd.DataFrame(columns = ['date', 'holiday_nm'])"
   ]
  },
  {
   "cell_type": "code",
   "execution_count": 8,
   "metadata": {},
   "outputs": [],
   "source": [
    "selected_yr = [2016, 2017, 2018, 2019, 2020]\n",
    "row_num = 0\n",
    "for yr in selected_yr:\n",
    "    for date, name in sorted(holidays.US(years = yr).items()):\n",
    "        if not 'Observed' in name:\n",
    "            holidays_df.loc[row_num, 'date'] = date\n",
    "            holidays_df.loc[row_num, 'holiday_nm'] = name\n",
    "        \n",
    "            row_num += 1\n",
    "#         print(date, name)\n",
    "    holidays_df.loc[row_num, 'date'] = datetime.date(datetime(yr, 11, 1) + relativedelta(weekday=TH(+4)) + timedelta(days=1))\n",
    "    holidays_df.loc[row_num, 'holiday_nm'] = \"Black friday\"\n",
    "    row_num += 1\n",
    "#     print(datetime.date(datetime(yr, 11, 1) + relativedelta(weekday=TH(+4)) + timedelta(days=1)))\n",
    "#     print(\"Black friday\")"
   ]
  },
  {
   "cell_type": "code",
   "execution_count": 11,
   "metadata": {},
   "outputs": [],
   "source": [
    "holidays_df.to_pickle('./holiday_df.pkl')"
   ]
  },
  {
   "cell_type": "code",
   "execution_count": null,
   "metadata": {},
   "outputs": [],
   "source": []
  }
 ],
 "metadata": {
  "kernelspec": {
   "display_name": "Python 3",
   "language": "python",
   "name": "python3"
  },
  "language_info": {
   "codemirror_mode": {
    "name": "ipython",
    "version": 3
   },
   "file_extension": ".py",
   "mimetype": "text/x-python",
   "name": "python",
   "nbconvert_exporter": "python",
   "pygments_lexer": "ipython3",
   "version": "3.7.6"
  }
 },
 "nbformat": 4,
 "nbformat_minor": 4
}
